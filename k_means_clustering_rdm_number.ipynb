{
  "nbformat": 4,
  "nbformat_minor": 0,
  "metadata": {
    "colab": {
      "provenance": []
    },
    "kernelspec": {
      "name": "python3",
      "display_name": "Python 3"
    },
    "language_info": {
      "name": "python"
    }
  },
  "cells": [
    {
      "cell_type": "code",
      "execution_count": 9,
      "metadata": {
        "id": "oyYHG9khjgAK"
      },
      "outputs": [],
      "source": [
        "import numpy as np\n",
        "import matplotlib.pyplot as plt"
      ]
    },
    {
      "cell_type": "code",
      "source": [
        "x = np.random.randint(1, 20, size=20)\n",
        "y = np.random.randint(1, 20, size = 20)"
      ],
      "metadata": {
        "id": "C4XU5o9xjy5X"
      },
      "execution_count": 10,
      "outputs": []
    },
    {
      "cell_type": "code",
      "source": [
        "dataset = np.column_stack((x, y))\n",
        "dataset[:5]"
      ],
      "metadata": {
        "colab": {
          "base_uri": "https://localhost:8080/"
        },
        "id": "cW0nfCbQkBTO",
        "outputId": "02302e9c-6088-4b88-a217-c004853f7745"
      },
      "execution_count": 11,
      "outputs": [
        {
          "output_type": "execute_result",
          "data": {
            "text/plain": [
              "array([[ 9,  2],\n",
              "       [ 7,  6],\n",
              "       [18, 10],\n",
              "       [ 4,  4],\n",
              "       [14, 18]])"
            ]
          },
          "metadata": {},
          "execution_count": 11
        }
      ]
    },
    {
      "cell_type": "code",
      "source": [
        "np.random.seed(42)\n",
        "np.random.shuffle(dataset)\n",
        "dataset[:5]"
      ],
      "metadata": {
        "colab": {
          "base_uri": "https://localhost:8080/"
        },
        "id": "0nn0xUjTkCU3",
        "outputId": "5520afdd-9c7f-4b79-c165-2af8ee530766"
      },
      "execution_count": 12,
      "outputs": [
        {
          "output_type": "execute_result",
          "data": {
            "text/plain": [
              "array([[ 9,  2],\n",
              "       [18, 18],\n",
              "       [17, 16],\n",
              "       [ 7,  6],\n",
              "       [15,  4]])"
            ]
          },
          "metadata": {},
          "execution_count": 12
        }
      ]
    },
    {
      "cell_type": "code",
      "source": [
        "plt.figure(figsize = (5, 4))\n",
        "plt.scatter(dataset[:, 0], dataset[:, 1])\n",
        "plt.show()"
      ],
      "metadata": {
        "colab": {
          "base_uri": "https://localhost:8080/",
          "height": 368
        },
        "id": "ZAK5wAXXmd77",
        "outputId": "fae248f8-6789-43ca-ba30-c4d0c6c07236"
      },
      "execution_count": 13,
      "outputs": [
        {
          "output_type": "display_data",
          "data": {
            "text/plain": [
              "<Figure size 500x400 with 1 Axes>"
            ],
            "image/png": "[encoded data removed]"
          },
          "metadata": {}
        }
      ]
    },
    {
      "cell_type": "code",
      "source": [
        "k = 3\n",
        "\n",
        "indice = np.random.choice(dataset.shape[0], size = k, replace=False)\n",
        "\n",
        "initial_centroids = dataset[indice]\n",
        "initial_centroids"
      ],
      "metadata": {
        "colab": {
          "base_uri": "https://localhost:8080/"
        },
        "id": "ibVgnDAYlAQ6",
        "outputId": "96dd3fa3-4825-4835-f6bd-2d35587a0cff"
      },
      "execution_count": 19,
      "outputs": [
        {
          "output_type": "execute_result",
          "data": {
            "text/plain": [
              "array([[18, 12],\n",
              "       [17, 16],\n",
              "       [ 3, 14]])"
            ]
          },
          "metadata": {},
          "execution_count": 19
        }
      ]
    },
    {
      "cell_type": "code",
      "source": [
        "plt.figure(figsize = (5, 4))\n",
        "plt.scatter(dataset[:, 0], dataset[:, 1])\n",
        "plt.scatter(initial_centroids[:, 0], initial_centroids[:, 1], color = 'red')\n",
        "plt.show()"
      ],
      "metadata": {
        "colab": {
          "base_uri": "https://localhost:8080/",
          "height": 368
        },
        "id": "s_GxiRbXmtbi",
        "outputId": "75edebb6-c832-45f3-beb6-8e413223b564"
      },
      "execution_count": 20,
      "outputs": [
        {
          "output_type": "display_data",
          "data": {
            "text/plain": [
              "<Figure size 500x400 with 1 Axes>"
            ],
            "image/png": "[encoded data removed]"
          },
          "metadata": {}
        }
      ]
    },
    {
      "cell_type": "code",
      "source": [
        "def euclidien_distance(point, centroid) :\n",
        "  return np.sqrt(np.sum((point - centroid) ** 2))"
      ],
      "metadata": {
        "id": "5YzgyKMdlTnh"
      },
      "execution_count": 21,
      "outputs": []
    },
    {
      "cell_type": "code",
      "source": [
        "def assign_centroid(dataset, centroids) :\n",
        "  lists = []\n",
        "  for point in dataset :\n",
        "    distances = [ euclidien_distance(point, centroid) for centroid in centroids]\n",
        "    closest_centroid = np.argmin(distances)\n",
        "    lists.append(closest_centroid)\n",
        "\n",
        "  return lists"
      ],
      "metadata": {
        "id": "LbmCoDoSl1UG"
      },
      "execution_count": 22,
      "outputs": []
    },
    {
      "cell_type": "code",
      "source": [
        "lists = assign_centroid(dataset, initial_centroids)\n",
        "initial_centroids"
      ],
      "metadata": {
        "colab": {
          "base_uri": "https://localhost:8080/"
        },
        "id": "vP7yXvoPmSc_",
        "outputId": "be1f0683-c130-4cff-86af-62c14d59e40a"
      },
      "execution_count": 23,
      "outputs": [
        {
          "output_type": "execute_result",
          "data": {
            "text/plain": [
              "array([[18, 12],\n",
              "       [17, 16],\n",
              "       [ 3, 14]])"
            ]
          },
          "metadata": {},
          "execution_count": 23
        }
      ]
    },
    {
      "cell_type": "code",
      "source": [
        "plt.figure(figsize = (5, 4))\n",
        "plt.scatter(dataset[:, 0], dataset[:, 1], c=lists, cmap = 'viridis')\n",
        "plt.scatter(initial_centroids[:, 0], initial_centroids[:, 1], color = 'red')\n",
        "plt.show()"
      ],
      "metadata": {
        "colab": {
          "base_uri": "https://localhost:8080/",
          "height": 368
        },
        "id": "S4ZS4nIsnfMb",
        "outputId": "b4af710f-2a1c-4edf-c950-cd791f647569"
      },
      "execution_count": 24,
      "outputs": [
        {
          "output_type": "display_data",
          "data": {
            "text/plain": [
              "<Figure size 500x400 with 1 Axes>"
            ],
            "image/png": "[encoded data removed]"
          },
          "metadata": {}
        }
      ]
    },
    {
      "cell_type": "code",
      "source": [
        "def recalculate_centroids_point(dataset, k, labels) :\n",
        "  new_centroids = np.zeros((k, dataset.shape[1]))\n",
        "  for i in range(k) :\n",
        "    points_assigned = dataset[np.array(labels) == i]\n",
        "    if len(points_assigned) > 0 :\n",
        "      new_centroids[i] = np.mean(points_assigned, axis = 0)\n",
        "\n",
        "  return new_centroids"
      ],
      "metadata": {
        "id": "NKvYBGdZm7mA"
      },
      "execution_count": 25,
      "outputs": []
    },
    {
      "cell_type": "code",
      "source": [
        "max_iterations = 10\n",
        "for i in range(max_iterations) :\n",
        "  labels = assign_centroid(dataset, initial_centroids)\n",
        "  new_centroids = recalculate_centroids_point(dataset, k, labels)\n",
        "\n",
        "  if np.all(initial_centroids == new_centroids) :\n",
        "    print(f\"Centroids converged after {i + 1} iterations\")\n",
        "    break\n",
        "\n",
        "  centroids = new_centroids"
      ],
      "metadata": {
        "id": "-8b0aWrSorXl"
      },
      "execution_count": 28,
      "outputs": []
    },
    {
      "cell_type": "code",
      "source": [
        "print(f\"Final centroids : {centroids}\")"
      ],
      "metadata": {
        "colab": {
          "base_uri": "https://localhost:8080/"
        },
        "id": "HVZfRlJJpD8-",
        "outputId": "2b87eda4-d8c0-4412-92eb-9b9ed5895fae"
      },
      "execution_count": 29,
      "outputs": [
        {
          "output_type": "stream",
          "name": "stdout",
          "text": [
            "Final centroids : [[16.          8.4       ]\n",
            " [15.25       17.        ]\n",
            " [ 5.90909091  9.81818182]]\n"
          ]
        }
      ]
    },
    {
      "cell_type": "code",
      "source": [
        "plt.figure(figsize = (5, 4))\n",
        "plt.scatter(dataset[:, 0], dataset[:, 1], c=lists, cmap = 'viridis')\n",
        "plt.scatter(centroids[:, 0], centroids[:, 1], color = 'red')\n",
        "plt.show()"
      ],
      "metadata": {
        "colab": {
          "base_uri": "https://localhost:8080/",
          "height": 368
        },
        "id": "dOmqdrNHpacw",
        "outputId": "4dabe880-c7ce-4774-ec60-628ecb9ca330"
      },
      "execution_count": 30,
      "outputs": [
        {
          "output_type": "display_data",
          "data": {
            "text/plain": [
              "<Figure size 500x400 with 1 Axes>"
            ],
            "image/png": "[encoded data removed]"
          },
          "metadata": {}
        }
      ]
    },
    {
      "cell_type": "code",
      "source": [],
      "metadata": {
        "id": "k1RovrhQphsW"
      },
      "execution_count": null,
      "outputs": []
    }
  ]
}