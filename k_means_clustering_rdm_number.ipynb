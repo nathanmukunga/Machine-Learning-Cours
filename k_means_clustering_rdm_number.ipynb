{
  "nbformat": 4,
  "nbformat_minor": 0,
  "metadata": {
    "colab": {
      "provenance": []
    },
    "kernelspec": {
      "name": "python3",
      "display_name": "Python 3"
    },
    "language_info": {
      "name": "python"
    }
  },
  "cells": [
    {
      "cell_type": "code",
      "execution_count": 33,
      "metadata": {
        "id": "oyYHG9khjgAK"
      },
      "outputs": [],
      "source": [
        "import numpy as np\n",
        "import matplotlib.pyplot as plt"
      ]
    },
    {
      "cell_type": "code",
      "source": [
        "x = np.random.randint(1, 20, size=20)\n",
        "y = np.random.randint(1, 20, size = 20)"
      ],
      "metadata": {
        "id": "C4XU5o9xjy5X"
      },
      "execution_count": 34,
      "outputs": []
    },
    {
      "cell_type": "code",
      "source": [
        "dataset = np.column_stack((x, y))\n",
        "dataset[:5]"
      ],
      "metadata": {
        "colab": {
          "base_uri": "https://localhost:8080/"
        },
        "id": "cW0nfCbQkBTO",
        "outputId": "fca9f481-902f-4d10-9178-7c22e3e29032"
      },
      "execution_count": 35,
      "outputs": [
        {
          "output_type": "execute_result",
          "data": {
            "text/plain": [
              "array([[ 2, 18],\n",
              "       [ 1,  9],\n",
              "       [12,  2],\n",
              "       [12, 15],\n",
              "       [17,  7]])"
            ]
          },
          "metadata": {},
          "execution_count": 35
        }
      ]
    },
    {
      "cell_type": "code",
      "source": [
        "np.random.seed(42)\n",
        "np.random.shuffle(dataset)\n",
        "dataset[:5]"
      ],
      "metadata": {
        "colab": {
          "base_uri": "https://localhost:8080/"
        },
        "id": "0nn0xUjTkCU3",
        "outputId": "c5501cec-479b-40bc-a5ed-f3be1812f2ed"
      },
      "execution_count": 36,
      "outputs": [
        {
          "output_type": "execute_result",
          "data": {
            "text/plain": [
              "array([[ 2, 18],\n",
              "       [18, 10],\n",
              "       [ 9,  2],\n",
              "       [ 1,  9],\n",
              "       [15,  3]])"
            ]
          },
          "metadata": {},
          "execution_count": 36
        }
      ]
    },
    {
      "cell_type": "code",
      "source": [
        "plt.figure(figsize = (5, 4))\n",
        "plt.scatter(dataset[:, 0], dataset[:, 1])\n",
        "plt.show()"
      ],
      "metadata": {
        "colab": {
          "base_uri": "https://localhost:8080/",
          "height": 368
        },
        "id": "ZAK5wAXXmd77",
        "outputId": "73f2b63a-aa7d-4b0f-94cf-614854a3dbb4"
      },
      "execution_count": 37,
      "outputs": [
        {
          "output_type": "display_data",
          "data": {
            "text/plain": [
              "<Figure size 500x400 with 1 Axes>"
            ],
            "image/png": "[encoded data removed]"
          },
          "metadata": {}
        }
      ]
    },
    {
      "cell_type": "code",
      "source": [
        "k = 3\n",
        "centroids = dataset[:k]\n",
        "centroids"
      ],
      "metadata": {
        "colab": {
          "base_uri": "https://localhost:8080/"
        },
        "id": "ibVgnDAYlAQ6",
        "outputId": "f882ba3f-bb32-4d68-81c5-c99730c496ee"
      },
      "execution_count": 38,
      "outputs": [
        {
          "output_type": "execute_result",
          "data": {
            "text/plain": [
              "array([[ 2, 18],\n",
              "       [18, 10],\n",
              "       [ 9,  2]])"
            ]
          },
          "metadata": {},
          "execution_count": 38
        }
      ]
    },
    {
      "cell_type": "code",
      "source": [
        "plt.figure(figsize = (5, 4))\n",
        "plt.scatter(dataset[:, 0], dataset[:, 1])\n",
        "plt.scatter(centroids[:, 0], centroids[:, 1], color = 'red')\n",
        "plt.show()"
      ],
      "metadata": {
        "colab": {
          "base_uri": "https://localhost:8080/",
          "height": 368
        },
        "id": "s_GxiRbXmtbi",
        "outputId": "22046dde-a357-489f-9862-1b2cd607e8ab"
      },
      "execution_count": 39,
      "outputs": [
        {
          "output_type": "display_data",
          "data": {
            "text/plain": [
              "<Figure size 500x400 with 1 Axes>"
            ],
            "image/png": "[encoded data removed]"
          },
          "metadata": {}
        }
      ]
    },
    {
      "cell_type": "code",
      "source": [
        "def euclidien_distance(point, centroid) :\n",
        "  return np.sqrt(np.sum((point - centroid) ** 2))"
      ],
      "metadata": {
        "id": "5YzgyKMdlTnh"
      },
      "execution_count": 40,
      "outputs": []
    },
    {
      "cell_type": "code",
      "source": [
        "def assign_centroid(dataset, centroids) :\n",
        "  lists = []\n",
        "  for point in dataset :\n",
        "    distances = [ euclidien_distance(point, centroid) for centroid in centroids]\n",
        "    closest_centroid = np.argmin(distances)\n",
        "    lists.append(closest_centroid)\n",
        "\n",
        "  return lists"
      ],
      "metadata": {
        "id": "LbmCoDoSl1UG"
      },
      "execution_count": 41,
      "outputs": []
    },
    {
      "cell_type": "code",
      "source": [
        "lists = assign_centroid(dataset, centroids)\n",
        "centroids"
      ],
      "metadata": {
        "colab": {
          "base_uri": "https://localhost:8080/"
        },
        "id": "vP7yXvoPmSc_",
        "outputId": "1440af48-5d62-41f6-de51-aef4e670fd44"
      },
      "execution_count": 42,
      "outputs": [
        {
          "output_type": "execute_result",
          "data": {
            "text/plain": [
              "array([[ 2, 18],\n",
              "       [18, 10],\n",
              "       [ 9,  2]])"
            ]
          },
          "metadata": {},
          "execution_count": 42
        }
      ]
    },
    {
      "cell_type": "code",
      "source": [
        "plt.figure(figsize = (5, 4))\n",
        "plt.scatter(dataset[:, 0], dataset[:, 1], c=lists, cmap = 'viridis')\n",
        "plt.scatter(centroids[:, 0], centroids[:, 1], color = 'red')\n",
        "plt.show()"
      ],
      "metadata": {
        "colab": {
          "base_uri": "https://localhost:8080/",
          "height": 368
        },
        "id": "S4ZS4nIsnfMb",
        "outputId": "12b5bf51-5e04-499a-e882-2c601449b4b7"
      },
      "execution_count": 43,
      "outputs": [
        {
          "output_type": "display_data",
          "data": {
            "text/plain": [
              "<Figure size 500x400 with 1 Axes>"
            ],
            "image/png": "[encoded data removed]"
          },
          "metadata": {}
        }
      ]
    },
    {
      "cell_type": "code",
      "source": [
        "def recalculate_centroids_point(dataset, k, labels) :\n",
        "  new_centroids = np.zeros((k, dataset.shape[1]))\n",
        "  for i in range(k) :\n",
        "    points_assigned = dataset[np.array(labels) == i]\n",
        "    if len(points_assigned) > 0 :\n",
        "      new_centroids[i] = np.mean(points_assigned, axis = 0)\n",
        "\n",
        "  return new_centroids"
      ],
      "metadata": {
        "id": "NKvYBGdZm7mA"
      },
      "execution_count": 44,
      "outputs": []
    },
    {
      "cell_type": "code",
      "source": [
        "max_iterations = 10\n",
        "for i in range(max_iterations) :\n",
        "  labels = assign_centroid(dataset, centroids)\n",
        "  new_centroids = recalculate_centroids_point(dataset, k, labels)\n",
        "\n",
        "  if np.all(centroids == new_centroids) :\n",
        "    print(f\"Centroids converged after {i + 1} iterations\")\n",
        "    break\n",
        "\n",
        "  centroids = new_centroids"
      ],
      "metadata": {
        "colab": {
          "base_uri": "https://localhost:8080/"
        },
        "id": "-8b0aWrSorXl",
        "outputId": "0d83b873-6c80-49aa-90f0-02d9a70497a9"
      },
      "execution_count": 46,
      "outputs": [
        {
          "output_type": "stream",
          "name": "stdout",
          "text": [
            "Centroids converged after 2 iterations\n"
          ]
        }
      ]
    },
    {
      "cell_type": "code",
      "source": [
        "print(f\"Final centroids : {centroids}\")"
      ],
      "metadata": {
        "colab": {
          "base_uri": "https://localhost:8080/"
        },
        "id": "HVZfRlJJpD8-",
        "outputId": "cfd4d61a-c191-4c94-b320-f6a47e7accbb"
      },
      "execution_count": 47,
      "outputs": [
        {
          "output_type": "stream",
          "name": "stdout",
          "text": [
            "Final centroids : [[ 2.66666667 15.        ]\n",
            " [15.2        12.4       ]\n",
            " [ 8.14285714  3.57142857]]\n"
          ]
        }
      ]
    },
    {
      "cell_type": "code",
      "source": [
        "plt.figure(figsize = (5, 4))\n",
        "plt.scatter(dataset[:, 0], dataset[:, 1], c=lists, cmap = 'viridis')\n",
        "plt.scatter(centroids[:, 0], centroids[:, 1], color = 'red')\n",
        "plt.show()"
      ],
      "metadata": {
        "colab": {
          "base_uri": "https://localhost:8080/",
          "height": 368
        },
        "id": "dOmqdrNHpacw",
        "outputId": "01d4958b-c961-4b8f-839f-cfe877a97c11"
      },
      "execution_count": 48,
      "outputs": [
        {
          "output_type": "display_data",
          "data": {
            "text/plain": [
              "<Figure size 500x400 with 1 Axes>"
            ],
            "image/png": "[encoded data removed]"
          },
          "metadata": {}
        }
      ]
    },
    {
      "cell_type": "code",
      "source": [],
      "metadata": {
        "id": "k1RovrhQphsW"
      },
      "execution_count": null,
      "outputs": []
    }
  ]
}