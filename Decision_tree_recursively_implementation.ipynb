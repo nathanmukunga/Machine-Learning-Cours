{
  "nbformat": 4,
  "nbformat_minor": 0,
  "metadata": {
    "colab": {
      "provenance": []
    },
    "kernelspec": {
      "name": "python3",
      "display_name": "Python 3"
    },
    "language_info": {
      "name": "python"
    }
  },
  "cells": [
    {
      "cell_type": "code",
      "source": [
        "import numpy as np"
      ],
      "metadata": {
        "id": "amuDB9NCx2HH"
      },
      "execution_count": 1,
      "outputs": []
    },
    {
      "cell_type": "code",
      "execution_count": 5,
      "metadata": {
        "colab": {
          "base_uri": "https://localhost:8080/"
        },
        "id": "rQ6teWL8xvf9",
        "outputId": "c4f6b9a4-2029-43b5-fb99-18b906ba0c36"
      },
      "outputs": [
        {
          "output_type": "stream",
          "name": "stdout",
          "text": [
            "Party\n",
            "  No\n",
            "    Deadline\n",
            "      Near\n",
            "        Lazy\n",
            "          No\n",
            "            → Study\n",
            "          Yes\n",
            "            → TV\n",
            "      Urgent\n",
            "        → Study\n",
            "      None\n",
            "        → Pub\n",
            "  Yes\n",
            "    → Party\n"
          ]
        }
      ],
      "source": [
        "class DecisionTree:\n",
        "    def __init__(self):\n",
        "        self.tree = None\n",
        "\n",
        "    def entropy_function(self, p):\n",
        "        return -p * np.log2(p) if p > 0 else 0\n",
        "\n",
        "    def calc_info_gain(self, data, classes, feature):\n",
        "        nData = len(data)\n",
        "\n",
        "        # Compute entropy before the split\n",
        "        classValues, classCounts = np.unique(classes, return_counts=True)\n",
        "        entropy_before = sum(self.entropy_function(classCounts[i] / nData) for i in range(len(classValues)))\n",
        "\n",
        "        # Get unique values of the feature\n",
        "        values, featureCounts = np.unique([datapoint[feature] for datapoint in data], return_counts=True)\n",
        "\n",
        "        # Compute weighted entropy after split\n",
        "        weighted_entropy = 0\n",
        "        for i, value in enumerate(values):\n",
        "            newClasses = [classes[idx] for idx, datapoint in enumerate(data) if datapoint[feature] == value]\n",
        "            subClassValues, subClassCounts = np.unique(newClasses, return_counts=True)\n",
        "            sub_entropy = sum(self.entropy_function(subClassCounts[j] / sum(subClassCounts)) for j in range(len(subClassValues)))\n",
        "            weighted_entropy += (featureCounts[i] / nData) * sub_entropy\n",
        "\n",
        "        return entropy_before - weighted_entropy\n",
        "\n",
        "    def build_tree(self, data, classes, features):\n",
        "        # If all classes are the same, return that class\n",
        "        if len(set(classes)) == 1:\n",
        "            return classes[0]\n",
        "\n",
        "        # If no features left, return the majority class\n",
        "        if not features:\n",
        "            return max(set(classes), key=classes.count)\n",
        "\n",
        "        # Calculate Information Gain for each feature\n",
        "        info_gains = {feature: self.calc_info_gain(data, classes, feature) for feature in features}\n",
        "\n",
        "        # Find the best feature to split on\n",
        "        best_feature = max(info_gains, key=info_gains.get)\n",
        "\n",
        "        # Create the tree node\n",
        "        tree = {best_feature: {}}\n",
        "\n",
        "        # Get unique values of the best feature\n",
        "        unique_values = set(datapoint[best_feature] for datapoint in data)\n",
        "\n",
        "        # Split data and recursively build branches\n",
        "        for value in unique_values:\n",
        "            subset_data = [datapoint for datapoint in data if datapoint[best_feature] == value]\n",
        "            subset_classes = [classes[idx] for idx, datapoint in enumerate(data) if datapoint[best_feature] == value]\n",
        "            remaining_features = [f for f in features if f != best_feature]\n",
        "            tree[best_feature][value] = self.build_tree(subset_data, subset_classes, remaining_features)\n",
        "\n",
        "        return tree\n",
        "\n",
        "    def fit(self, data, classes, features):\n",
        "        self.tree = self.build_tree(data, classes, features)\n",
        "\n",
        "    def print_tree(self, tree=None, indent=\"\"):\n",
        "        if tree is None:\n",
        "            tree = self.tree\n",
        "\n",
        "        if isinstance(tree, dict):\n",
        "            for key, value in tree.items():\n",
        "                print(indent + str(key))\n",
        "                self.print_tree(value, indent + \"  \")\n",
        "        else:\n",
        "            print(indent + \"→ \" + str(tree))\n",
        "\n",
        "# Dataset\n",
        "data = [\n",
        "    {\"Deadline\": \"Urgent\", \"Party\": \"Yes\", \"Lazy\": \"Yes\"},\n",
        "    {\"Deadline\": \"Urgent\", \"Party\": \"No\", \"Lazy\": \"Yes\"},\n",
        "    {\"Deadline\": \"Near\", \"Party\": \"Yes\", \"Lazy\": \"Yes\"},\n",
        "    {\"Deadline\": \"None\", \"Party\": \"Yes\", \"Lazy\": \"No\"},\n",
        "    {\"Deadline\": \"None\", \"Party\": \"No\", \"Lazy\": \"Yes\"},\n",
        "    {\"Deadline\": \"None\", \"Party\": \"Yes\", \"Lazy\": \"No\"},\n",
        "    {\"Deadline\": \"Near\", \"Party\": \"No\", \"Lazy\": \"No\"},\n",
        "    {\"Deadline\": \"Near\", \"Party\": \"No\", \"Lazy\": \"Yes\"},\n",
        "    {\"Deadline\": \"Urgent\", \"Party\": \"Yes\", \"Lazy\": \"Yes\"},\n",
        "    {\"Deadline\": \"Urgent\", \"Party\": \"No\", \"Lazy\": \"No\"},\n",
        "]\n",
        "\n",
        "classes = [\"Party\", \"Study\", \"Party\", \"Party\", \"Pub\", \"Party\", \"Study\", \"TV\", \"Party\", \"Study\"]\n",
        "features = [\"Deadline\", \"Party\", \"Lazy\"]\n",
        "\n",
        "# Train decision tree\n",
        "dt = DecisionTree()\n",
        "dt.fit(data, classes, features)\n",
        "\n",
        "dt.print_tree()\n"
      ]
    },
    {
      "cell_type": "code",
      "source": [],
      "metadata": {
        "id": "6PxYXm1-y6dU"
      },
      "execution_count": null,
      "outputs": []
    }
  ]
}