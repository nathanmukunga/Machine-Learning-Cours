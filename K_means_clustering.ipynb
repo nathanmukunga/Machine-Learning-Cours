{
  "nbformat": 4,
  "nbformat_minor": 0,
  "metadata": {
    "colab": {
      "provenance": []
    },
    "kernelspec": {
      "name": "python3",
      "display_name": "Python 3"
    },
    "language_info": {
      "name": "python"
    }
  },
  "cells": [
    {
      "cell_type": "code",
      "execution_count": 65,
      "metadata": {
        "id": "dkYCSPULCDd0"
      },
      "outputs": [],
      "source": [
        "import numpy as np\n",
        "import matplotlib.pyplot as plt"
      ]
    },
    {
      "cell_type": "code",
      "source": [
        "import numpy as np\n",
        "\n",
        "X = np.array([[1, 1], [2, 1],[4, 3],[5, 4]])"
      ],
      "metadata": {
        "id": "BKVaKHCKNLWr"
      },
      "execution_count": 66,
      "outputs": []
    },
    {
      "cell_type": "code",
      "source": [
        "X.shape"
      ],
      "metadata": {
        "colab": {
          "base_uri": "https://localhost:8080/"
        },
        "id": "OObjJG7PgUPz",
        "outputId": "4577b674-d7f4-4566-a73e-9f7a63a14333"
      },
      "execution_count": 84,
      "outputs": [
        {
          "output_type": "execute_result",
          "data": {
            "text/plain": [
              "(4, 2)"
            ]
          },
          "metadata": {},
          "execution_count": 84
        }
      ]
    },
    {
      "cell_type": "code",
      "source": [
        "plt.figure(figsize = (5, 4))\n",
        "plt.scatter(X[:, 0], X[:, 1])\n",
        "plt.show()"
      ],
      "metadata": {
        "colab": {
          "base_uri": "https://localhost:8080/",
          "height": 368
        },
        "id": "B8oXKr-2NdIT",
        "outputId": "502286af-1d10-4f9d-f056-8de989e439a2"
      },
      "execution_count": 67,
      "outputs": [
        {
          "output_type": "display_data",
          "data": {
            "text/plain": [
              "<Figure size 500x400 with 1 Axes>"
            ],
            "image/png": "[encoded data removed]"
          },
          "metadata": {}
        }
      ]
    },
    {
      "cell_type": "code",
      "source": [
        "np.random.seed(42)\n",
        "np.random.shuffle(X)\n",
        "\n",
        "print(X)"
      ],
      "metadata": {
        "colab": {
          "base_uri": "https://localhost:8080/"
        },
        "id": "kPzuc-HFNgfv",
        "outputId": "9d980fe5-a3cc-4209-886b-1fde0594db48"
      },
      "execution_count": 68,
      "outputs": [
        {
          "output_type": "stream",
          "name": "stdout",
          "text": [
            "[[2 1]\n",
            " [5 4]\n",
            " [1 1]\n",
            " [4 3]]\n"
          ]
        }
      ]
    },
    {
      "cell_type": "code",
      "source": [
        "k = 2\n",
        "centroids = X[:k]"
      ],
      "metadata": {
        "id": "2T-e2q9BPA_e"
      },
      "execution_count": 69,
      "outputs": []
    },
    {
      "cell_type": "code",
      "source": [
        "print(f\"my centroids : {centroids}\")"
      ],
      "metadata": {
        "colab": {
          "base_uri": "https://localhost:8080/"
        },
        "id": "8XEVEfewPPAu",
        "outputId": "4abaa34b-c150-4197-ca14-0e3076906c5a"
      },
      "execution_count": 70,
      "outputs": [
        {
          "output_type": "stream",
          "name": "stdout",
          "text": [
            "my centroids : [[2 1]\n",
            " [5 4]]\n"
          ]
        }
      ]
    },
    {
      "cell_type": "code",
      "source": [
        "plt.figure(figsize = (5, 4))\n",
        "plt.scatter(X[:, 0], X[:, 1])\n",
        "plt.scatter(centroids[:, 0], centroids[:, 1], color = 'red')\n",
        "plt.show()"
      ],
      "metadata": {
        "colab": {
          "base_uri": "https://localhost:8080/",
          "height": 368
        },
        "id": "I_TrnZ49Qlli",
        "outputId": "cbf43f43-d139-4445-c721-195e251e0ccd"
      },
      "execution_count": 71,
      "outputs": [
        {
          "output_type": "display_data",
          "data": {
            "text/plain": [
              "<Figure size 500x400 with 1 Axes>"
            ],
            "image/png": "[encoded data removed]"
          },
          "metadata": {}
        }
      ]
    },
    {
      "cell_type": "code",
      "source": [
        "def euclidienne_function(points, centroid) :\n",
        "  return np.sqrt(np.sum((points - centroid) ** 2))"
      ],
      "metadata": {
        "id": "zYODZZzMPaSl"
      },
      "execution_count": 72,
      "outputs": []
    },
    {
      "cell_type": "code",
      "source": [
        "def assign_centroids(X, centroids) :\n",
        "  lists = []\n",
        "  for points in X :\n",
        "    distances = [euclidienne_function(points, centroid) for centroid in centroids]\n",
        "    closest_centroid = np.argmin(distances)\n",
        "    lists.append(closest_centroid)\n",
        "\n",
        "  return lists"
      ],
      "metadata": {
        "id": "-zUA4BvNQE7_"
      },
      "execution_count": 73,
      "outputs": []
    },
    {
      "cell_type": "code",
      "source": [
        "lists = assign_centroids(X, centroids)\n",
        "centroids"
      ],
      "metadata": {
        "colab": {
          "base_uri": "https://localhost:8080/"
        },
        "id": "WgsUYEljRshI",
        "outputId": "e2aa1879-4f45-4667-bdf2-044e8499bfa7"
      },
      "execution_count": 74,
      "outputs": [
        {
          "output_type": "execute_result",
          "data": {
            "text/plain": [
              "array([[2, 1],\n",
              "       [5, 4]])"
            ]
          },
          "metadata": {},
          "execution_count": 74
        }
      ]
    },
    {
      "cell_type": "code",
      "source": [
        "plt.figure(figsize = (5, 4))\n",
        "plt.scatter(X[:, 0], X[:, 1], c=lists, cmap = 'viridis')\n",
        "plt.scatter(centroids[:, 0], centroids[:, 1], color = 'red')\n",
        "plt.show()"
      ],
      "metadata": {
        "colab": {
          "base_uri": "https://localhost:8080/",
          "height": 368
        },
        "id": "AQJi1nqnRy2y",
        "outputId": "5089fdf0-9d76-4500-9fe2-2c1d9b304a66"
      },
      "execution_count": 75,
      "outputs": [
        {
          "output_type": "display_data",
          "data": {
            "text/plain": [
              "<Figure size 500x400 with 1 Axes>"
            ],
            "image/png": "[encoded data removed]"
          },
          "metadata": {}
        }
      ]
    },
    {
      "cell_type": "code",
      "source": [],
      "metadata": {
        "colab": {
          "base_uri": "https://localhost:8080/"
        },
        "id": "2EAYspK3gl38",
        "outputId": "e4376634-062a-4877-9ba0-d88ee68304ee"
      },
      "execution_count": 86,
      "outputs": [
        {
          "output_type": "execute_result",
          "data": {
            "text/plain": [
              "(2, 2)"
            ]
          },
          "metadata": {},
          "execution_count": 86
        }
      ]
    },
    {
      "cell_type": "code",
      "source": [
        "def recalculate_centroids(X, labels, k) :\n",
        "  new_centroids = np.zeros((k, X.shape[1]))\n",
        "  for i in range(k) :\n",
        "    points_assigned = X[np.array(labels) == i]\n",
        "    if len(points_assigned) > 0 :\n",
        "      new_centroids[i] = np.mean(points_assigned, axis = 0)\n",
        "\n",
        "  return new_centroids"
      ],
      "metadata": {
        "id": "C0T2zKN1S3NZ"
      },
      "execution_count": 76,
      "outputs": []
    },
    {
      "cell_type": "code",
      "source": [
        "max_iterations = 10\n",
        "for i in range(max_iterations) :\n",
        "  labels = assign_centroids(X, centroids)\n",
        "  new_centroids = recalculate_centroids(X, labels, k)\n",
        "\n",
        "  if np.all(centroids == new_centroids) :\n",
        "    print(f\"Centroids converged after {i + 1} iterations\")\n",
        "    break\n",
        "\n",
        "  centroids = new_centroids"
      ],
      "metadata": {
        "colab": {
          "base_uri": "https://localhost:8080/"
        },
        "id": "3ksxJA0EWdea",
        "outputId": "e39ee38a-f709-42e3-fc15-595434d8792f"
      },
      "execution_count": 77,
      "outputs": [
        {
          "output_type": "stream",
          "name": "stdout",
          "text": [
            "Centroids converged after 2 iterations\n"
          ]
        }
      ]
    },
    {
      "cell_type": "code",
      "source": [
        "print(f\"Final centroids : {centroids}\")"
      ],
      "metadata": {
        "colab": {
          "base_uri": "https://localhost:8080/"
        },
        "id": "g9da-jkMWgFv",
        "outputId": "a5c43575-859c-479b-eeb8-4c4299c57271"
      },
      "execution_count": 78,
      "outputs": [
        {
          "output_type": "stream",
          "name": "stdout",
          "text": [
            "Final centroids : [[1.5 1. ]\n",
            " [4.5 3.5]]\n"
          ]
        }
      ]
    },
    {
      "cell_type": "code",
      "source": [
        "plt.figure(figsize = (5, 4))\n",
        "plt.scatter(X[:, 0], X[:, 1], c=lists, cmap = 'viridis', label = 'data point')\n",
        "plt.scatter(centroids[:, 0], centroids[:, 1], color = 'red', marker = 'x', label = 'centroids')\n",
        "plt.legend()\n",
        "plt.show()"
      ],
      "metadata": {
        "colab": {
          "base_uri": "https://localhost:8080/",
          "height": 368
        },
        "id": "zn2WtucpYY4W",
        "outputId": "9c38ae86-80c6-42b4-9a48-6bcb56c03a22"
      },
      "execution_count": 79,
      "outputs": [
        {
          "output_type": "display_data",
          "data": {
            "text/plain": [
              "<Figure size 500x400 with 1 Axes>"
            ],
            "image/png": "[encoded data removed]"
          },
          "metadata": {}
        }
      ]
    },
    {
      "cell_type": "code",
      "source": [],
      "metadata": {
        "id": "ECNKSXleYokY"
      },
      "execution_count": null,
      "outputs": []
    }
  ]
}