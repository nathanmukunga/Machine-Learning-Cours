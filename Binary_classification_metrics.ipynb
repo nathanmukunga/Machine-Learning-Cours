{
  "nbformat": 4,
  "nbformat_minor": 0,
  "metadata": {
    "colab": {
      "provenance": []
    },
    "kernelspec": {
      "name": "python3",
      "display_name": "Python 3"
    },
    "language_info": {
      "name": "python"
    }
  },
  "cells": [
    {
      "cell_type": "code",
      "execution_count": 31,
      "metadata": {
        "id": "UPPfSPRxrrCb"
      },
      "outputs": [],
      "source": [
        "import numpy as np"
      ]
    },
    {
      "cell_type": "code",
      "source": [
        "def statistics_binary(true_labels, pred_labels):\n",
        "    # Create a confusion matrix (2x2)\n",
        "    confusion_matrix = np.zeros((2, 2), dtype=int)  #\"row\" : is a true_labels and \"col\" : is the pre_labels\n",
        "\n",
        "    # Populate the confusion matrix\n",
        "    for true, pred in zip(true_labels, pred_labels):\n",
        "        confusion_matrix[true, pred] += 1 #adds 1 to the cell corresponding to the actual and predicted class.\n",
        "\n",
        "    # Extract TP, TN, FP, FN\n",
        "    TP = confusion_matrix[1, 1]\n",
        "    TN = confusion_matrix[0, 0]\n",
        "    FP = confusion_matrix[1, 0]\n",
        "    FN = confusion_matrix[0, 1]\n",
        "\n",
        "    # Calculate metrics\n",
        "    precision = TP / (TP + FP) if (TP + FP) > 0 else 0\n",
        "    recall = TP / (TP + FN) if (TP + FN) > 0 else 0\n",
        "    f1_score = 2 * (precision * recall) / (precision + recall) if (precision + recall) > 0 else 0\n",
        "    accuracy = (TP + TN) / np.sum(confusion_matrix) if np.sum(confusion_matrix) > 0 else 0\n",
        "    specificity = TN / (TN + FP) if (TN + FP) > 0 else 0\n",
        "    mcc = (((TP * TN) - (FP * FN)) / ((TP + FP) * (TP + FN) * (TN + FP) * (TN + FN))) if ((TP + FP) * (TP + FN) * (TN + FP) * (TN + FN)) > 0 else 0\n",
        "\n",
        "    return {\n",
        "        'confusion_matrix': confusion_matrix,\n",
        "        'precision': precision,\n",
        "        'recall': recall,\n",
        "        'f1_score': f1_score,\n",
        "        'accuracy': accuracy,\n",
        "        'specificity' : specificity,\n",
        "        'mcc' : mcc\n",
        "    }"
      ],
      "metadata": {
        "id": "0J6yeKpFycJI"
      },
      "execution_count": 44,
      "outputs": []
    },
    {
      "cell_type": "code",
      "source": [
        "# Example usage\n",
        "true_labels = np.array([0, 1, 1, 0, 1, 0, 1, 0]) # True labels\n",
        "pred_labels = np.array([0, 1, 1, 0, 0, 1, 1, 0]) # Predicted labels\n",
        "\n",
        "results = statistics_binary(true_labels, pred_labels)\n",
        "print(\"Confusion Matrix:\\n\", results['confusion_matrix'])\n",
        "print(\"Precision:\", results['precision'])\n",
        "print(\"Recall:\", results['recall'])\n",
        "print(\"F1 Score:\", results['f1_score'])\n",
        "print(\"Accuracy:\", results['accuracy'])\n",
        "print(\"specificity:\", results['specificity'])\n",
        "print(\"mcc:\", results['mcc'])"
      ],
      "metadata": {
        "colab": {
          "base_uri": "https://localhost:8080/"
        },
        "id": "hevWsLFFy9mq",
        "outputId": "75bfd0e5-0194-417b-b557-01d576512a36"
      },
      "execution_count": 45,
      "outputs": [
        {
          "output_type": "stream",
          "name": "stdout",
          "text": [
            "Confusion Matrix:\n",
            " [[3 1]\n",
            " [1 3]]\n",
            "Precision: 0.75\n",
            "Recall: 0.75\n",
            "F1 Score: 0.75\n",
            "Accuracy: 0.75\n",
            "specificity: 0.75\n",
            "mcc: 0.03125\n"
          ]
        }
      ]
    },
    {
      "cell_type": "code",
      "source": [],
      "metadata": {
        "id": "bqmTXLTwzFbe"
      },
      "execution_count": null,
      "outputs": []
    }
  ]
}