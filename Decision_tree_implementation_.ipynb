{
  "nbformat": 4,
  "nbformat_minor": 0,
  "metadata": {
    "colab": {
      "provenance": []
    },
    "kernelspec": {
      "name": "python3",
      "display_name": "Python 3"
    },
    "language_info": {
      "name": "python"
    }
  },
  "cells": [
    {
      "cell_type": "code",
      "source": [
        "import numpy as np"
      ],
      "metadata": {
        "id": "bpOhr1xYblMU"
      },
      "execution_count": 187,
      "outputs": []
    },
    {
      "cell_type": "code",
      "source": [
        "# Dataset\n",
        "data = [\n",
        "    {\"Deadline\": \"Urgent\", \"Party\": \"Yes\", \"Lazy\": \"Yes\"},\n",
        "    {\"Deadline\": \"Urgent\", \"Party\": \"No\", \"Lazy\": \"Yes\"},\n",
        "    {\"Deadline\": \"Near\", \"Party\": \"Yes\", \"Lazy\": \"Yes\"},\n",
        "    {\"Deadline\": \"None\", \"Party\": \"Yes\", \"Lazy\": \"No\"},\n",
        "    {\"Deadline\": \"None\", \"Party\": \"No\", \"Lazy\": \"Yes\"},\n",
        "    {\"Deadline\": \"None\", \"Party\": \"Yes\", \"Lazy\": \"No\"},\n",
        "    {\"Deadline\": \"Near\", \"Party\": \"No\", \"Lazy\": \"No\"},\n",
        "    {\"Deadline\": \"Near\", \"Party\": \"No\", \"Lazy\": \"Yes\"},\n",
        "    {\"Deadline\": \"Urgent\", \"Party\": \"Yes\", \"Lazy\": \"Yes\"},\n",
        "    {\"Deadline\": \"Urgent\", \"Party\": \"No\", \"Lazy\": \"No\"},\n",
        "]\n",
        "\n",
        "classes = [\"Party\", \"Study\", \"Party\", \"Party\", \"Pub\", \"Party\", \"Study\", \"TV\", \"Party\", \"Study\"]\n",
        "features = [\"Deadline\", \"Party\", \"Lazy\"]"
      ],
      "metadata": {
        "id": "gNRadjVUbnXT"
      },
      "execution_count": 188,
      "outputs": []
    },
    {
      "cell_type": "code",
      "source": [
        "data"
      ],
      "metadata": {
        "colab": {
          "base_uri": "https://localhost:8080/"
        },
        "id": "QNZDAgIXcO8Q",
        "outputId": "41a5f74d-72af-47d7-c3f7-4af2bc3450a3"
      },
      "execution_count": 189,
      "outputs": [
        {
          "output_type": "execute_result",
          "data": {
            "text/plain": [
              "[{'Deadline': 'Urgent', 'Party': 'Yes', 'Lazy': 'Yes'},\n",
              " {'Deadline': 'Urgent', 'Party': 'No', 'Lazy': 'Yes'},\n",
              " {'Deadline': 'Near', 'Party': 'Yes', 'Lazy': 'Yes'},\n",
              " {'Deadline': 'None', 'Party': 'Yes', 'Lazy': 'No'},\n",
              " {'Deadline': 'None', 'Party': 'No', 'Lazy': 'Yes'},\n",
              " {'Deadline': 'None', 'Party': 'Yes', 'Lazy': 'No'},\n",
              " {'Deadline': 'Near', 'Party': 'No', 'Lazy': 'No'},\n",
              " {'Deadline': 'Near', 'Party': 'No', 'Lazy': 'Yes'},\n",
              " {'Deadline': 'Urgent', 'Party': 'Yes', 'Lazy': 'Yes'},\n",
              " {'Deadline': 'Urgent', 'Party': 'No', 'Lazy': 'No'}]"
            ]
          },
          "metadata": {},
          "execution_count": 189
        }
      ]
    },
    {
      "cell_type": "code",
      "source": [
        "def entropy_function(p):\n",
        "    if p != 0:\n",
        "        return -p * np.log2(p)\n",
        "    else:\n",
        "        return 0"
      ],
      "metadata": {
        "id": "6GH5ilMZbslc"
      },
      "execution_count": 190,
      "outputs": []
    },
    {
      "cell_type": "code",
      "source": [
        "def information_gain(data, classes, feature):\n",
        "    number_of_data_points = len(data)\n",
        "    unique_class_labels, count_each_class = np.unique(classes, return_counts=True) #np.unique() : finds the unique elements of the array\n",
        "\n",
        "    # Calculate the root entropy\n",
        "    root_entropy = sum(entropy_function(count_each_class[i] / number_of_data_points) for i in range(len(unique_class_labels)))\n",
        "    print(\"Root Entropy H(S) =\", root_entropy)\n",
        "    print(\"Unique Classes:\", unique_class_labels)\n",
        "    print(\"Counts of each class:\", count_each_class)\n",
        "\n",
        "    # Calculate Weighted Entropy for Each Unique Value\n",
        "                                        #creates a list of values for the specified feature\n",
        "    values, feature_counts = np.unique([datapoint[feature] for datapoint in data], return_counts=True) # return_counts=True : return the counts of each unique value.\n",
        "    weighted_entropy = 0\n",
        "\n",
        "    #Note : values will contain the unique values of the feature, and feature_counts will contain how many times each value appears in the dataset.\n",
        "\n",
        "    #calculating the weighted entropy of the subset\n",
        "    for value, count in zip(values, feature_counts):\n",
        "        subset_classes = [classes[i] for i in range(number_of_data_points) if data[i][feature] == value]\n",
        "        unique_subset_labels, subset_counts = np.unique(subset_classes, return_counts=True)\n",
        "        subset_entropy = sum(entropy_function(subset_counts[i] / count) for i in range(len(unique_subset_labels)))\n",
        "        weighted_entropy += (count / number_of_data_points) * subset_entropy\n",
        "\n",
        "    # Calculate information gain\n",
        "    gain = root_entropy - weighted_entropy\n",
        "    return gain"
      ],
      "metadata": {
        "id": "4icvm9yKbf9U"
      },
      "execution_count": 198,
      "outputs": []
    },
    {
      "cell_type": "code",
      "source": [
        "information_gain(data, classes, feature)"
      ],
      "metadata": {
        "colab": {
          "base_uri": "https://localhost:8080/"
        },
        "id": "iNCvAF7kdPEn",
        "outputId": "ccfbb5f5-461e-48b6-cca3-eaf49ad1c99b"
      },
      "execution_count": 199,
      "outputs": [
        {
          "output_type": "stream",
          "name": "stdout",
          "text": [
            "Root Entropy H(S) = 1.6854752972273344\n",
            "Unique Classes: ['Party' 'Pub' 'Study' 'TV']\n",
            "Counts of each class: [5 1 3 1]\n"
          ]
        },
        {
          "output_type": "execute_result",
          "data": {
            "text/plain": [
              "np.float64(0.20998654701098762)"
            ]
          },
          "metadata": {},
          "execution_count": 199
        }
      ]
    },
    {
      "cell_type": "code",
      "source": [
        "# Calculate and display information gain for each feature\n",
        "information_gains = {}\n",
        "\n",
        "for feature in features:\n",
        "    info_gain = information_gain(data, classes, feature)\n",
        "    print(f\"Feature: {feature}\")\n",
        "\n",
        "    # List the unique values that the feature can take\n",
        "    values, feature_counts = np.unique([datapoint[feature] for datapoint in data], return_counts=True)\n",
        "\n",
        "    print(f\"Unique values for {feature}: {values}\")\n",
        "    print(f\"Counts for each unique value: {feature_counts}\")\n",
        "    print(f\"Information Gain for '{feature}': {info_gain:.4f}\\n\")"
      ],
      "metadata": {
        "colab": {
          "base_uri": "https://localhost:8080/"
        },
        "id": "wqL7CXKvcBPD",
        "outputId": "f6593784-ea11-48cd-f7e0-63fe032eead2"
      },
      "execution_count": 195,
      "outputs": [
        {
          "output_type": "stream",
          "name": "stdout",
          "text": [
            "Root Entropy H(S) = 1.6854752972273344\n",
            "Unique Classes: ['Party' 'Pub' 'Study' 'TV']\n",
            "Counts of each class: [5 1 3 1]\n",
            "Feature: Deadline\n",
            "Unique values for Deadline: ['Near' 'None' 'Urgent']\n",
            "Counts for each unique value: [3 3 4]\n",
            "Information Gain for 'Deadline': 0.5345\n",
            "\n",
            "Root Entropy H(S) = 1.6854752972273344\n",
            "Unique Classes: ['Party' 'Pub' 'Study' 'TV']\n",
            "Counts of each class: [5 1 3 1]\n",
            "Feature: Party\n",
            "Unique values for Party: ['No' 'Yes']\n",
            "Counts for each unique value: [5 5]\n",
            "Information Gain for 'Party': 1.0000\n",
            "\n",
            "Root Entropy H(S) = 1.6854752972273344\n",
            "Unique Classes: ['Party' 'Pub' 'Study' 'TV']\n",
            "Counts of each class: [5 1 3 1]\n",
            "Feature: Lazy\n",
            "Unique values for Lazy: ['No' 'Yes']\n",
            "Counts for each unique value: [4 6]\n",
            "Information Gain for 'Lazy': 0.2100\n",
            "\n"
          ]
        }
      ]
    },
    {
      "cell_type": "code",
      "source": [
        "# Determine the best feature after displaying the gains\n",
        "information_gains[feature] = info_gain\n",
        "best_feature = max(information_gains, key=information_gains.get)\n",
        "max_gain = information_gains[best_feature]\n",
        "\n",
        "print(f\"\\nBest Feature: {best_feature} with Information Gain: {max_gain:.4f}\")"
      ],
      "metadata": {
        "colab": {
          "base_uri": "https://localhost:8080/"
        },
        "id": "C4RqGrgVcGxK",
        "outputId": "7a101fd9-cf4d-4a86-c1cf-0faf784a5bde"
      },
      "execution_count": 197,
      "outputs": [
        {
          "output_type": "stream",
          "name": "stdout",
          "text": [
            "\n",
            "Best Feature: Lazy with Information Gain: 0.2100\n"
          ]
        }
      ]
    },
    {
      "cell_type": "code",
      "source": [],
      "metadata": {
        "id": "LrmD5-dbfNNh"
      },
      "execution_count": null,
      "outputs": []
    }
  ]
}